{
 "cells": [
  {
   "cell_type": "markdown",
   "metadata": {},
   "source": [
    "#### Student Name: Ashley Newman\n",
    "#### Student ID: 806092"
   ]
  },
  {
   "cell_type": "markdown",
   "metadata": {},
   "source": [
    "# Assignment 4\n",
    "\n",
    "### Markov Chain, LZify\n",
    "\n",
    "Instructions: \n",
    "\n",
    "* This notebook is an interactive assignment; please read and follow the instructions in each cell. \n",
    "\n",
    "* Cells that require your input (in the form of code or written response) will have 'Question #' above.\n",
    "\n",
    "* After completing the assignment, please submit this notebook as a PDF and a WAV file of your Fur Elise variation.\n",
    "\n",
    "* Make sure to mark the page with your solution for each problem on Gradescope. Any problems without the correct pages marked may receive a score of 0. "
   ]
  },
  {
   "cell_type": "markdown",
   "metadata": {},
   "source": [
    "## Markov-Based Chord Prediction\n",
    "\n",
    "In music, certain chord transitions are more likely than others. This idea can be applied as Markov Models, where the first-order temporal relationships between the various chords are captured by the transition probability matrix $A$. \n",
    "\n",
    "If we consider only major and minor chords, there are a total of 24 chords in this model (12 major, from C through B, and 12 minor, from C through B), formalized as:\n",
    "\n",
    "\\begin{equation}\n",
    "\\label{eq:ChordReco:HMM:App:Spec:SetStates}\n",
    "  \\mathcal{A} = \\{\\mathbf{C},\\mathbf{C}^\\sharp,\\ldots,\\mathbf{B},\\mathbf{Cm},\\mathbf{Cm^\\sharp},\\ldots,\\mathbf{Bm}\\} \n",
    "\\end{equation}\n",
    "\n",
    "We use the notation $\\alpha{i}\\rightarrow\\alpha{j}$ referring to the transition from state $\\alpha{i}$ to state $\\alpha{j}$, $i,j\\in[1:24]$. For example, the coefficient $a_{1,2}$ expresses the \n",
    "probability for the transition $\\alpha_{1}\\rightarrow\\alpha_{2}$ (corresponding to  $\\mathbf{C}\\rightarrow\\mathbf{C}^\\sharp$), whereas $a_{1,8}$ expresses the probability for $\\alpha_{1}\\rightarrow\\alpha_{8}$  (corresponding to  $\\mathbf{C}\\rightarrow\\mathbf{G}$). In real music, the change from a tonic to the dominant is much more likely\n",
    "than transposing by one semitone, so that the probability $a_{1,8}$ should be much larger than $a_{1,2}$. The coefficients $a_{i,i}$ express the probability of staying in state $\\alpha_{i}$ (i.e., $\\alpha_{i}\\rightarrow\\alpha_{i}$), $i\\in[1:24]$. These coefficients are also referred to as **self-transition** probabilities.\n",
    "\n",
    "A transition probability matrix can be specified in many ways. For example, the matrix may be defined manually by a music expert based on rules from harmony theory. The most common approach is to generate such a matrix automatically \n",
    "by estimating the transition probabilities from labeled data. \n",
    "\n",
    "In the following exercise, you will create a Markov model by determining transition probabilities found in the music of the Beatles using bigrams (pairs of adjacent elements) in labeled frame sequences from a subset of the Beatles Corpus.\n",
    "\n",
    "For this assignment, assume each row in the dataset represents a chord that has followed the chord on the previous row in a Beatles song. When parsing the file for your model, you may discard any chord references beyond key and major/minor quality. For example, if a row reads 'Bbm7', you would parse for the key (B-flat) and quality (minor), but discard the extra information that it is a 7th chord.  "
   ]
  },
  {
   "cell_type": "code",
   "execution_count": 11,
   "metadata": {},
   "outputs": [],
   "source": [
    "import numpy as np\n",
    "import pandas as pd\n",
    "from collections import Counter\n",
    "from numpy.random import multinomial as randm\n",
    "from numpy import where\n",
    "import scipy.signal as si\n",
    "import IPython.display as ipd\n",
    "import librosa\n",
    "import scipy\n",
    "from matplotlib import patches\n",
    "import librosa.display as ld\n",
    "import music21\n",
    "from music21 import midi as midi21\n",
    "from music21 import stream\n",
    "from jchord.progressions import ChordProgression, MidiConversionSettings\n",
    "import copy\n",
    "import matplotlib.pyplot as plt\n",
    "\n",
    "\n",
    "np.random.seed(42)\n",
    "\n",
    "data = pd.read_csv('Liverpool_band_chord_sequence.csv')\n",
    "\n",
    "def preprocess(df):\n",
    "    df[df['chords'] == 'Bb'] = 'A#'  \n",
    "    chords = ' '.join(map(str, df['chords']))\n",
    "    return chords\n",
    "\n",
    "data2 = preprocess(data)\n",
    "\n",
    "\n",
    "\n",
    "def play(x):\n",
    "    \"\"\"Returns nothing. Outputs a midi realization of x, a note or stream.\n",
    "    Primarily for use in notebooks and web environments.\n",
    "    \"\"\"\n",
    "    prog = ChordProgression.from_string(x)\n",
    "    prog.to_midi(MidiConversionSettings(filename=\"example.midi\", tempo=100, beats_per_chord=4, instrument=4))\n",
    "    mf = midi21.MidiFile()\n",
    "    mf.open(\"example.midi\")\n",
    "    mf.read()\n",
    "    mf.close()\n",
    "    s = midi21.translate.midiFileToStream(mf)\n",
    "    myStream = stream.Stream()\n",
    "\n",
    "    myStream.append(s)\n",
    "    x = myStream\n",
    "    \n",
    "    if isinstance(x, stream.Stream):\n",
    "        x = copy.deepcopy(x)\n",
    "        for subStream in x.recurse(streamsOnly=True, includeSelf=True):\n",
    "            mss = subStream.getElementsByClass(stream.Measure)\n",
    "            for ms in mss:\n",
    "                ms.offset += 1.0\n",
    "    if isinstance(x, music21.note.Note):\n",
    "        s = stream.Stream()\n",
    "        s.append(music21.note.Rest(1))\n",
    "        s.append(x)\n",
    "        x = s\n",
    "    x.show('midi')\n"
   ]
  },
  {
   "cell_type": "markdown",
   "metadata": {},
   "source": [
    "##### Question 1 (20 points)\n",
    "\n",
    "Using the above data, generate a 24x24 matrix, where each matrix element (i,j) is the transition probability from chord i to chord j. "
   ]
  },
  {
   "cell_type": "code",
   "execution_count": 135,
   "metadata": {},
   "outputs": [],
   "source": [
    "import numpy as np\n",
    "import pandas as pd\n",
    "from collections import Counter\n",
    "np.random.seed(42)\n",
    "\n",
    "# read file\n",
    "data = pd.read_csv('Liverpool_band_chord_sequence.csv')\n"
   ]
  },
  {
   "cell_type": "code",
   "execution_count": 136,
   "metadata": {},
   "outputs": [
    {
     "data": {
      "text/plain": [
       "['F Em7', 'Em7 A7', 'A7 Dm', 'Dm Dm7', 'Dm7 Bb']"
      ]
     },
     "execution_count": 136,
     "metadata": {},
     "output_type": "execute_result"
    }
   ],
   "source": [
    "# code to make bigrams for trans prob matrix\n",
    "n = 2\n",
    "chords = data['chords'].values\n",
    "ngrams = zip(*[chords[i:] for i in range(n)])\n",
    "bigrams = [\" \".join(ngram) for ngram in ngrams]\n",
    "bigrams[:5]"
   ]
  },
  {
   "cell_type": "code",
   "execution_count": 137,
   "metadata": {},
   "outputs": [
    {
     "data": {
      "text/plain": [
       "['F Em7', 'Em7 A7', 'A7 Dm', 'Dm Dm7', 'Dm7 A#']"
      ]
     },
     "execution_count": 137,
     "metadata": {},
     "output_type": "execute_result"
    }
   ],
   "source": [
    "# bigrams = [item.replace('7', '') for item in bigrams]\n",
    "# bigrams = [item.replace('6', '') for item in bigrams]\n",
    "# bigrams = [item.replace('4', '') for item in bigrams]\n",
    "bigrams = [item.replace('Bb', 'A#') for item in bigrams]\n",
    "# bigrams = [item.replace('sus', '') for item in bigrams] # didn't know how to represent sus in chordprogression.from_string\n",
    "bigrams[:5]\n"
   ]
  },
  {
   "cell_type": "code",
   "execution_count": 138,
   "metadata": {},
   "outputs": [
    {
     "data": {
      "text/plain": [
       "'F Em A Dm Dm A# C F C Dm G A# F F Em A Dm Dm A# C F C Dm G A# F Am A Dm C A# Dm Gm C F Am A Dm C A# Dm Gm C F Fm F F Em A Dm Dm A# C F C Dm G A# F Am A Dm C A# Dm Gm C F Am A Dm C A# Dm Gm C F Fm F F Em A Dm Dm A# C F C Dm G A# F G A# F'"
      ]
     },
     "execution_count": 138,
     "metadata": {},
     "output_type": "execute_result"
    }
   ],
   "source": [
    "data = pd.read_csv('Liverpool_band_chord_sequence.csv')\n",
    "\n",
    "\n",
    "def preprocess(df):\n",
    "    df[df['chords'] == 'Bb'] = 'A#'  \n",
    "    df[df['chords'] == 'Em7'] = 'Em'  \n",
    "    df[df['chords'] == 'A7'] = 'A' \n",
    "    df[df['chords'] == 'Dm7'] = 'Dm' \n",
    "    df[df['chords'] == 'C7'] = 'C' \n",
    "    df[df['chords'] == 'G7'] = 'G' \n",
    "    df[df['chords'] == 'A7sus4'] = 'Am' \n",
    "    df[df['chords'] == 'Gm6'] = 'Gm' \n",
    "    df[df['chords'] == 'Fsus4'] = 'Fm' \n",
    "    chords = ' '.join(map(str, df['chords']))\n",
    "    return chords\n",
    "\n",
    "\n",
    "\n",
    "data = preprocess(data)\n",
    "data"
   ]
  },
  {
   "cell_type": "code",
   "execution_count": 139,
   "metadata": {},
   "outputs": [
    {
     "data": {
      "text/html": [
       "<div>\n",
       "<style scoped>\n",
       "    .dataframe tbody tr th:only-of-type {\n",
       "        vertical-align: middle;\n",
       "    }\n",
       "\n",
       "    .dataframe tbody tr th {\n",
       "        vertical-align: top;\n",
       "    }\n",
       "\n",
       "    .dataframe thead th {\n",
       "        text-align: right;\n",
       "    }\n",
       "</style>\n",
       "<table border=\"1\" class=\"dataframe\">\n",
       "  <thead>\n",
       "    <tr style=\"text-align: right;\">\n",
       "      <th>State I</th>\n",
       "      <th>A</th>\n",
       "      <th>A#</th>\n",
       "      <th>Am</th>\n",
       "      <th>C</th>\n",
       "      <th>Dm</th>\n",
       "      <th>Em</th>\n",
       "      <th>F</th>\n",
       "      <th>Fm</th>\n",
       "      <th>G</th>\n",
       "      <th>Gm</th>\n",
       "    </tr>\n",
       "    <tr>\n",
       "      <th>State J</th>\n",
       "      <th></th>\n",
       "      <th></th>\n",
       "      <th></th>\n",
       "      <th></th>\n",
       "      <th></th>\n",
       "      <th></th>\n",
       "      <th></th>\n",
       "      <th></th>\n",
       "      <th></th>\n",
       "      <th></th>\n",
       "    </tr>\n",
       "  </thead>\n",
       "  <tbody>\n",
       "    <tr>\n",
       "      <th>A</th>\n",
       "      <td>0.0</td>\n",
       "      <td>0.000000</td>\n",
       "      <td>1.0</td>\n",
       "      <td>0.00</td>\n",
       "      <td>0.0</td>\n",
       "      <td>1.0</td>\n",
       "      <td>0.000000</td>\n",
       "      <td>0.0</td>\n",
       "      <td>0.0</td>\n",
       "      <td>0.0</td>\n",
       "    </tr>\n",
       "    <tr>\n",
       "      <th>A#</th>\n",
       "      <td>0.0</td>\n",
       "      <td>0.000000</td>\n",
       "      <td>0.0</td>\n",
       "      <td>0.25</td>\n",
       "      <td>0.2</td>\n",
       "      <td>0.0</td>\n",
       "      <td>0.000000</td>\n",
       "      <td>0.0</td>\n",
       "      <td>1.0</td>\n",
       "      <td>0.0</td>\n",
       "    </tr>\n",
       "    <tr>\n",
       "      <th>Am</th>\n",
       "      <td>0.0</td>\n",
       "      <td>0.000000</td>\n",
       "      <td>0.0</td>\n",
       "      <td>0.00</td>\n",
       "      <td>0.0</td>\n",
       "      <td>0.0</td>\n",
       "      <td>0.222222</td>\n",
       "      <td>0.0</td>\n",
       "      <td>0.0</td>\n",
       "      <td>0.0</td>\n",
       "    </tr>\n",
       "    <tr>\n",
       "      <th>C</th>\n",
       "      <td>0.0</td>\n",
       "      <td>0.307692</td>\n",
       "      <td>0.0</td>\n",
       "      <td>0.00</td>\n",
       "      <td>0.2</td>\n",
       "      <td>0.0</td>\n",
       "      <td>0.222222</td>\n",
       "      <td>0.0</td>\n",
       "      <td>0.0</td>\n",
       "      <td>1.0</td>\n",
       "    </tr>\n",
       "    <tr>\n",
       "      <th>Dm</th>\n",
       "      <td>1.0</td>\n",
       "      <td>0.307692</td>\n",
       "      <td>0.0</td>\n",
       "      <td>0.25</td>\n",
       "      <td>0.2</td>\n",
       "      <td>0.0</td>\n",
       "      <td>0.000000</td>\n",
       "      <td>0.0</td>\n",
       "      <td>0.0</td>\n",
       "      <td>0.0</td>\n",
       "    </tr>\n",
       "    <tr>\n",
       "      <th>Em</th>\n",
       "      <td>0.0</td>\n",
       "      <td>0.000000</td>\n",
       "      <td>0.0</td>\n",
       "      <td>0.00</td>\n",
       "      <td>0.0</td>\n",
       "      <td>0.0</td>\n",
       "      <td>0.222222</td>\n",
       "      <td>0.0</td>\n",
       "      <td>0.0</td>\n",
       "      <td>0.0</td>\n",
       "    </tr>\n",
       "    <tr>\n",
       "      <th>F</th>\n",
       "      <td>0.0</td>\n",
       "      <td>0.384615</td>\n",
       "      <td>0.0</td>\n",
       "      <td>0.50</td>\n",
       "      <td>0.0</td>\n",
       "      <td>0.0</td>\n",
       "      <td>0.166667</td>\n",
       "      <td>1.0</td>\n",
       "      <td>0.0</td>\n",
       "      <td>0.0</td>\n",
       "    </tr>\n",
       "    <tr>\n",
       "      <th>Fm</th>\n",
       "      <td>0.0</td>\n",
       "      <td>0.000000</td>\n",
       "      <td>0.0</td>\n",
       "      <td>0.00</td>\n",
       "      <td>0.0</td>\n",
       "      <td>0.0</td>\n",
       "      <td>0.111111</td>\n",
       "      <td>0.0</td>\n",
       "      <td>0.0</td>\n",
       "      <td>0.0</td>\n",
       "    </tr>\n",
       "    <tr>\n",
       "      <th>G</th>\n",
       "      <td>0.0</td>\n",
       "      <td>0.000000</td>\n",
       "      <td>0.0</td>\n",
       "      <td>0.00</td>\n",
       "      <td>0.2</td>\n",
       "      <td>0.0</td>\n",
       "      <td>0.055556</td>\n",
       "      <td>0.0</td>\n",
       "      <td>0.0</td>\n",
       "      <td>0.0</td>\n",
       "    </tr>\n",
       "    <tr>\n",
       "      <th>Gm</th>\n",
       "      <td>0.0</td>\n",
       "      <td>0.000000</td>\n",
       "      <td>0.0</td>\n",
       "      <td>0.00</td>\n",
       "      <td>0.2</td>\n",
       "      <td>0.0</td>\n",
       "      <td>0.000000</td>\n",
       "      <td>0.0</td>\n",
       "      <td>0.0</td>\n",
       "      <td>0.0</td>\n",
       "    </tr>\n",
       "  </tbody>\n",
       "</table>\n",
       "</div>"
      ],
      "text/plain": [
       "State I    A        A#   Am     C   Dm   Em         F   Fm    G   Gm\n",
       "State J                                                             \n",
       "A        0.0  0.000000  1.0  0.00  0.0  1.0  0.000000  0.0  0.0  0.0\n",
       "A#       0.0  0.000000  0.0  0.25  0.2  0.0  0.000000  0.0  1.0  0.0\n",
       "Am       0.0  0.000000  0.0  0.00  0.0  0.0  0.222222  0.0  0.0  0.0\n",
       "C        0.0  0.307692  0.0  0.00  0.2  0.0  0.222222  0.0  0.0  1.0\n",
       "Dm       1.0  0.307692  0.0  0.25  0.2  0.0  0.000000  0.0  0.0  0.0\n",
       "Em       0.0  0.000000  0.0  0.00  0.0  0.0  0.222222  0.0  0.0  0.0\n",
       "F        0.0  0.384615  0.0  0.50  0.0  0.0  0.166667  1.0  0.0  0.0\n",
       "Fm       0.0  0.000000  0.0  0.00  0.0  0.0  0.111111  0.0  0.0  0.0\n",
       "G        0.0  0.000000  0.0  0.00  0.2  0.0  0.055556  0.0  0.0  0.0\n",
       "Gm       0.0  0.000000  0.0  0.00  0.2  0.0  0.000000  0.0  0.0  0.0"
      ]
     },
     "execution_count": 139,
     "metadata": {},
     "output_type": "execute_result"
    }
   ],
   "source": [
    "data2 = data.split(' ')\n",
    "\n",
    "trans_matrix = pd.crosstab(pd.Series(data2[1:],name='State J'),\n",
    "            pd.Series(data2[:-1],name='State I'),normalize=1)\n",
    "\n",
    "\n",
    "# major = ['C', 'C#', 'D', 'D#', 'E', 'F', 'F#', 'G', 'G#', 'A', 'A#', 'B']\n",
    "# minor = ['Cm', 'C#m', 'Dm', 'D#m', 'Em', 'Fm', 'F#m', 'Gm', 'G#m', 'Am', 'A#m', 'Bm']\n",
    "trans_matrix\n"
   ]
  },
  {
   "cell_type": "code",
   "execution_count": 140,
   "metadata": {},
   "outputs": [
    {
     "data": {
      "text/plain": [
       "array([[0.        , 0.        , 0.        , 0.        , 0.        ,\n",
       "        0.5       , 0.        , 0.        , 0.        , 0.        ,\n",
       "        0.25      , 0.        , 0.        , 0.        , 0.25      ,\n",
       "        0.        , 0.        , 0.        , 0.        , 0.        ,\n",
       "        0.        , 0.        , 0.        , 0.        ],\n",
       "       [0.        , 0.        , 0.        , 0.        , 0.        ,\n",
       "        0.        , 0.        , 0.        , 0.        , 0.        ,\n",
       "        0.        , 0.        , 0.        , 0.        , 0.        ,\n",
       "        0.        , 0.        , 0.        , 0.        , 0.        ,\n",
       "        0.        , 0.        , 0.        , 0.        ],\n",
       "       [0.        , 0.        , 0.        , 0.        , 0.        ,\n",
       "        0.        , 0.        , 0.        , 0.        , 0.        ,\n",
       "        0.        , 0.        , 0.        , 0.        , 0.        ,\n",
       "        0.        , 0.        , 0.        , 0.        , 0.        ,\n",
       "        0.        , 0.        , 0.        , 0.        ],\n",
       "       [0.        , 0.        , 0.        , 0.        , 0.        ,\n",
       "        0.        , 0.        , 0.        , 0.        , 0.        ,\n",
       "        0.        , 0.        , 0.        , 0.        , 0.        ,\n",
       "        0.        , 0.        , 0.        , 0.        , 0.        ,\n",
       "        0.        , 0.        , 0.        , 0.        ],\n",
       "       [0.        , 0.        , 0.        , 0.        , 0.        ,\n",
       "        0.        , 0.        , 0.        , 0.        , 0.        ,\n",
       "        0.        , 0.        , 0.        , 0.        , 0.        ,\n",
       "        0.        , 0.        , 0.        , 0.        , 0.        ,\n",
       "        0.        , 0.        , 0.        , 0.        ],\n",
       "       [0.22222222, 0.        , 0.        , 0.        , 0.        ,\n",
       "        0.16666667, 0.        , 0.05555556, 0.        , 0.        ,\n",
       "        0.        , 0.        , 0.        , 0.        , 0.        ,\n",
       "        0.        , 0.22222222, 0.11111111, 0.        , 0.        ,\n",
       "        0.        , 0.22222222, 0.        , 0.        ],\n",
       "       [0.        , 0.        , 0.        , 0.        , 0.        ,\n",
       "        0.        , 0.        , 0.        , 0.        , 0.        ,\n",
       "        0.        , 0.        , 0.        , 0.        , 0.        ,\n",
       "        0.        , 0.        , 0.        , 0.        , 0.        ,\n",
       "        0.        , 0.        , 0.        , 0.        ],\n",
       "       [0.        , 0.        , 0.        , 0.        , 0.        ,\n",
       "        0.        , 0.        , 0.        , 0.        , 0.        ,\n",
       "        1.        , 0.        , 0.        , 0.        , 0.        ,\n",
       "        0.        , 0.        , 0.        , 0.        , 0.        ,\n",
       "        0.        , 0.        , 0.        , 0.        ],\n",
       "       [0.        , 0.        , 0.        , 0.        , 0.        ,\n",
       "        0.        , 0.        , 0.        , 0.        , 0.        ,\n",
       "        0.        , 0.        , 0.        , 0.        , 0.        ,\n",
       "        0.        , 0.        , 0.        , 0.        , 0.        ,\n",
       "        0.        , 0.        , 0.        , 0.        ],\n",
       "       [0.        , 0.        , 0.        , 0.        , 0.        ,\n",
       "        0.        , 0.        , 0.        , 0.        , 0.        ,\n",
       "        0.        , 0.        , 0.        , 0.        , 1.        ,\n",
       "        0.        , 0.        , 0.        , 0.        , 0.        ,\n",
       "        0.        , 0.        , 0.        , 0.        ],\n",
       "       [0.30769231, 0.        , 0.        , 0.        , 0.        ,\n",
       "        0.38461538, 0.        , 0.        , 0.        , 0.        ,\n",
       "        0.        , 0.        , 0.        , 0.        , 0.30769231,\n",
       "        0.        , 0.        , 0.        , 0.        , 0.        ,\n",
       "        0.        , 0.        , 0.        , 0.        ],\n",
       "       [0.        , 0.        , 0.        , 0.        , 0.        ,\n",
       "        0.        , 0.        , 0.        , 0.        , 0.        ,\n",
       "        0.        , 0.        , 0.        , 0.        , 0.        ,\n",
       "        0.        , 0.        , 0.        , 0.        , 0.        ,\n",
       "        0.        , 0.        , 0.        , 0.        ],\n",
       "       [0.        , 0.        , 0.        , 0.        , 0.        ,\n",
       "        0.        , 0.        , 0.        , 0.        , 0.        ,\n",
       "        0.        , 0.        , 0.        , 0.        , 0.        ,\n",
       "        0.        , 0.        , 0.        , 0.        , 0.        ,\n",
       "        0.        , 0.        , 0.        , 0.        ],\n",
       "       [0.        , 0.        , 0.        , 0.        , 0.        ,\n",
       "        0.        , 0.        , 0.        , 0.        , 0.        ,\n",
       "        0.        , 0.        , 0.        , 0.        , 0.        ,\n",
       "        0.        , 0.        , 0.        , 0.        , 0.        ,\n",
       "        0.        , 0.        , 0.        , 0.        ],\n",
       "       [0.2       , 0.        , 0.        , 0.        , 0.        ,\n",
       "        0.        , 0.        , 0.2       , 0.        , 0.        ,\n",
       "        0.2       , 0.        , 0.        , 0.        , 0.2       ,\n",
       "        0.        , 0.        , 0.        , 0.        , 0.2       ,\n",
       "        0.        , 0.        , 0.        , 0.        ],\n",
       "       [0.        , 0.        , 0.        , 0.        , 0.        ,\n",
       "        0.        , 0.        , 0.        , 0.        , 0.        ,\n",
       "        0.        , 0.        , 0.        , 0.        , 0.        ,\n",
       "        0.        , 0.        , 0.        , 0.        , 0.        ,\n",
       "        0.        , 0.        , 0.        , 0.        ],\n",
       "       [0.        , 0.        , 0.        , 0.        , 0.        ,\n",
       "        0.        , 0.        , 0.        , 0.        , 1.        ,\n",
       "        0.        , 0.        , 0.        , 0.        , 0.        ,\n",
       "        0.        , 0.        , 0.        , 0.        , 0.        ,\n",
       "        0.        , 0.        , 0.        , 0.        ],\n",
       "       [0.        , 0.        , 0.        , 0.        , 0.        ,\n",
       "        1.        , 0.        , 0.        , 0.        , 0.        ,\n",
       "        0.        , 0.        , 0.        , 0.        , 0.        ,\n",
       "        0.        , 0.        , 0.        , 0.        , 0.        ,\n",
       "        0.        , 0.        , 0.        , 0.        ],\n",
       "       [0.        , 0.        , 0.        , 0.        , 0.        ,\n",
       "        0.        , 0.        , 0.        , 0.        , 0.        ,\n",
       "        0.        , 0.        , 0.        , 0.        , 0.        ,\n",
       "        0.        , 0.        , 0.        , 0.        , 0.        ,\n",
       "        0.        , 0.        , 0.        , 0.        ],\n",
       "       [1.        , 0.        , 0.        , 0.        , 0.        ,\n",
       "        0.        , 0.        , 0.        , 0.        , 0.        ,\n",
       "        0.        , 0.        , 0.        , 0.        , 0.        ,\n",
       "        0.        , 0.        , 0.        , 0.        , 0.        ,\n",
       "        0.        , 0.        , 0.        , 0.        ],\n",
       "       [0.        , 0.        , 0.        , 0.        , 0.        ,\n",
       "        0.        , 0.        , 0.        , 0.        , 0.        ,\n",
       "        0.        , 0.        , 0.        , 0.        , 0.        ,\n",
       "        0.        , 0.        , 0.        , 0.        , 0.        ,\n",
       "        0.        , 0.        , 0.        , 0.        ],\n",
       "       [0.        , 0.        , 0.        , 0.        , 0.        ,\n",
       "        0.        , 0.        , 0.        , 0.        , 1.        ,\n",
       "        0.        , 0.        , 0.        , 0.        , 0.        ,\n",
       "        0.        , 0.        , 0.        , 0.        , 0.        ,\n",
       "        0.        , 0.        , 0.        , 0.        ],\n",
       "       [0.        , 0.        , 0.        , 0.        , 0.        ,\n",
       "        0.        , 0.        , 0.        , 0.        , 0.        ,\n",
       "        0.        , 0.        , 0.        , 0.        , 0.        ,\n",
       "        0.        , 0.        , 0.        , 0.        , 0.        ,\n",
       "        0.        , 0.        , 0.        , 0.        ],\n",
       "       [0.        , 0.        , 0.        , 0.        , 0.        ,\n",
       "        0.        , 0.        , 0.        , 0.        , 0.        ,\n",
       "        0.        , 0.        , 0.        , 0.        , 0.        ,\n",
       "        0.        , 0.        , 0.        , 0.        , 0.        ,\n",
       "        0.        , 0.        , 0.        , 0.        ]])"
      ]
     },
     "execution_count": 140,
     "metadata": {},
     "output_type": "execute_result"
    }
   ],
   "source": [
    "values = np.zeros((10,13))\n",
    "col = ['C#', 'D', 'D#', 'E', 'F#', 'G#', 'B'\n",
    "      'Cm', 'C#m', 'D#m', 'F#m', 'G#m', 'A#m', 'Bm']\n",
    "df_add = pd.DataFrame(data=values, columns=col)\n",
    "mod = pd.concat([trans_matrix, df_add], axis=1)\n",
    "mod = mod.reindex(['C', 'C#', 'D', 'D#', 'E', 'F', 'F#', 'G', 'G#', 'A', 'A#', 'B',\n",
    "                  'Cm', 'C#m', 'Dm', 'D#m', 'Em', 'Fm', 'F#m', 'Gm', 'G#m', 'Am', 'A#m', 'Bm'],\n",
    "                 axis='columns').reindex(['C', 'C#', 'D', 'D#', 'E', 'F', 'F#', 'G', 'G#', 'A', 'A#', 'B',\n",
    "                  'Cm', 'C#m', 'Dm', 'D#m', 'Em', 'Fm', 'F#m', 'Gm', 'G#m', 'Am', 'A#m', 'Bm'])\n",
    "mod = mod.fillna(0.0)\n",
    "mod = mod.T\n",
    "mod = mod.to_numpy()\n",
    "MM = mod\n",
    "MM"
   ]
  },
  {
   "cell_type": "code",
   "execution_count": 141,
   "metadata": {},
   "outputs": [
    {
     "data": {
      "image/png": "[encoded data removed]",
      "text/plain": [
       "<Figure size 432x288 with 2 Axes>"
      ]
     },
     "metadata": {
      "image/png": {
       "height": 268,
       "width": 393
      },
      "needs_background": "light"
     },
     "output_type": "display_data"
    }
   ],
   "source": [
    "def plot_transition_matrix(A, ax=None, xlabel='State $a_j$', ylabel='State $a_i$', title='', clim=[-6, 0], cmap='gray_r'):\n",
    "    \n",
    "    im = plt.imshow(A, origin='lower', aspect='auto', cmap=cmap)\n",
    "    im.set_clim([0, 1])\n",
    "    cbar = plt.colorbar(im)\n",
    "    plt.xlabel(xlabel)\n",
    "    plt.ylabel(ylabel)\n",
    "    plt.title(title)\n",
    "    cbar.ax.set_ylabel('Probability')\n",
    "    \n",
    "    chroma_label = ['C', 'C#', 'D', 'D#', 'E', 'F', 'F#', 'G', 'G#', 'A', 'A#', 'B']\n",
    "    chord_label_maj = chroma_label\n",
    "    chord_label_min = [s + 'm' for s in chroma_label]\n",
    "    chord_labels = chord_label_maj + chord_label_min\n",
    "    chord_labels_squeezed = chord_labels.copy()\n",
    "    for k in [13, 15, 17, 18, 20, 22]:\n",
    "        chord_labels_squeezed[k] = ''\n",
    "        \n",
    "    plt.xticks(np.arange(24), labels=chord_labels_squeezed )\n",
    "    plt.yticks(np.arange(24), labels=chord_labels)\n",
    "    \n",
    "    return im\n",
    "\n",
    "plot_transition_matrix(MM);"
   ]
  },
  {
   "cell_type": "markdown",
   "metadata": {},
   "source": [
    "##### Question 2 (10 points)\n",
    "\n",
    "Using your MM, you will create your own 16-measure Beatles hits!\n",
    "For your first song, beginning on C major, select each next chord by choosing the chord with the largest transition probability from the current chord.\n",
    "\n",
    "Make sure your chord progression string is formatted like this: 'C Dm G C'\n",
    "\n",
    "Otherwise, it may not play in the in-browser MIDI player. "
   ]
  },
  {
   "cell_type": "code",
   "execution_count": 142,
   "metadata": {},
   "outputs": [
    {
     "name": "stdout",
     "output_type": "stream",
     "text": [
      "C Dm7 A# F Em7 A7 Dm Dm7 A# F Em7 A7 Dm Dm7 A# F Em7\n"
     ]
    }
   ],
   "source": [
    "my_first_beatles_hit = 'C'\n",
    "\n",
    "\n",
    "def predict_next_state(chord:str, data:list=bigrams):\n",
    "    bigrams_with_current_chord = [bigram for bigram in bigrams if bigram.split(' ')[0]==chord]\n",
    "    count_appearance = dict(Counter(bigrams_with_current_chord))\n",
    "    for ngram in count_appearance.keys():\n",
    "        count_appearance[ngram] = count_appearance[ngram]/len(bigrams_with_current_chord)\n",
    "    options = [key.split(' ')[1] for key in count_appearance.keys()]\n",
    "    probabilities = list(count_appearance.values())\n",
    "    max_value = max(probabilities)\n",
    "    max_index = probabilities.index(max_value)\n",
    "    result = options[max_index]\n",
    "    return result\n",
    "\n",
    "    \n",
    "\n",
    "def generate_sequence(chord:str=None, data:list=bigrams, length:int=16):\n",
    "    \"\"\"Generate sequence of defined length.\"\"\"\n",
    "    # create list to store future chords\n",
    "    chords = []\n",
    "    for n in range(length):\n",
    "        # append next chord for the list\n",
    "        chords.append(predict_next_state(chord, bigrams))\n",
    "        # use last chord in sequence to predict next chord\n",
    "        chord = chords[-1]\n",
    "    return chords\n",
    "\n",
    "beatles = generate_sequence(my_first_beatles_hit)\n",
    "beatles = ' '.join(beatles)\n",
    "beatles = my_first_beatles_hit + \" \" + beatles\n",
    "print(beatles)\n",
    "\n",
    "\n"
   ]
  },
  {
   "cell_type": "code",
   "execution_count": 143,
   "metadata": {},
   "outputs": [
    {
     "data": {
      "text/html": [
       "\n",
       "                <div id='midiPlayerDiv878'></div>\n",
       "                <link rel=\"stylesheet\" href=\"//cuthbertLab.github.io/music21j/css/m21.css\"\n",
       "                    type=\"text/css\" />\n",
       "                <script>\n",
       "                require.config({\n",
       "                    paths: {'music21': '//cuthbertLab.github.io/music21j/src/music21'}\n",
       "                });\n",
       "                require(['music21'], function() {\n",
       "                               mp = new music21.miditools.MidiPlayer();\n",
       "                               mp.addPlayer('#midiPlayerDiv878');\n",
       "                               mp.base64Load('data:audio/midi;base64,TVRoZAAAAAYAAQACBABNVHJrAAAAFAD/UQMJJ8AA/1gEBAIYCIgA/y8ATVRyawAAAgIA/wMFUGlhbm8AwAQA4ABAAMAEiACQPGQAkEBkAJBDZKAAgDwAAIBAAACAQwAAkD5kAJBBZACQRWQAkEhkoACAPgAAgEEAAIBFAACASAAAkEZkAJBKZACQTWSgAIBGAACASgAAgE0AAJBBZACQRWQAkEhkoACAQQAAgEUAAIBIAACQQGQAkENkAJBHZACQSmSgAIBAAACAQwAAgEcAAIBKAACQRWQAkElkAJBMZACQT2SgAIBFAACASQAAgEwAAIBPAACQPmQAkEFkAJBFZKAAgD4AAIBBAACARQAAkD5kAJBBZACQRWQAkEhkoACAPgAAgEEAAIBFAACASAAAkEZkAJBKZACQTWSgAIBGAACASgAAgE0AAJBBZACQRWQAkEhkoACAQQAAgEUAAIBIAACQQGQAkENkAJBHZACQSmSgAIBAAACAQwAAgEcAAIBKAACQRWQAkElkAJBMZACQT2SgAIBFAACASQAAgEwAAIBPAACQPmQAkEFkAJBFZKAAgD4AAIBBAACARQAAkD5kAJBBZACQRWQAkEhkoACAPgAAgEEAAIBFAACASAAAkEZkAJBKZACQTWSgAIBGAACASgAAgE0AAJBBZACQRWQAkEhkoACAQQAAgEUAAIBIAACQQGQAkENkAJBHZACQSmSgAIBAAACAQwAAgEcAAIBKAIgA/y8A');\n",
       "                        });\n",
       "                </script>"
      ],
      "text/plain": [
       "<IPython.core.display.HTML object>"
      ]
     },
     "metadata": {},
     "output_type": "display_data"
    }
   ],
   "source": [
    "play(beatles)"
   ]
  },
  {
   "cell_type": "markdown",
   "metadata": {},
   "source": [
    "##### Question 3 (10 points)\n",
    "\n",
    "For your second song, beginning on C major, select each next chord at random according to the probabilities of your MM.\n",
    "For example, if C major transitions to G major with probability .5, F major with probability .25, and D minor with probability .25, then your next chord should be selected randomly from (G, F, Dm) with probability of selection (.5, .25, .25) respectively. "
   ]
  },
  {
   "cell_type": "code",
   "execution_count": 144,
   "metadata": {},
   "outputs": [
    {
     "name": "stdout",
     "output_type": "stream",
     "text": [
      "C Dm7 G7 A# C7 F F Fsus4 F Fsus4 F C Dm7 A# Dm Gm6 C7\n"
     ]
    }
   ],
   "source": [
    "my_second_beatles_hit = 'C'\n",
    "\n",
    "### Your code here:\n",
    "\n",
    "def predict_next_state(chord:str, data:list=bigrams):\n",
    "    \"\"\"Predict next chord based on current state.\"\"\"\n",
    "    # create list of bigrams which stats with current chord\n",
    "    bigrams_with_current_chord = [bigram for bigram in bigrams if bigram.split(' ')[0]==chord]\n",
    "    # count appearance of each bigram\n",
    "    count_appearance = dict(Counter(bigrams_with_current_chord))\n",
    "    # convert appearance into probabilities\n",
    "    for ngram in count_appearance.keys():\n",
    "        count_appearance[ngram] = count_appearance[ngram]/len(bigrams_with_current_chord)\n",
    "    # create list of possible options for the next chord\n",
    "    options = [key.split(' ')[1] for key in count_appearance.keys()]\n",
    "    # create  list of probability distribution\n",
    "    probabilities = list(count_appearance.values())\n",
    "    # return random prediction\n",
    "    return np.random.choice(options, p=None)\n",
    "\n",
    "def generate_sequence(chord:str=None, data:list=bigrams, length:int=16):\n",
    "    \"\"\"Generate sequence of defined length.\"\"\"\n",
    "    # create list to store future chords\n",
    "    chords = []\n",
    "    for n in range(length):\n",
    "        # append next chord for the list\n",
    "        chords.append(predict_next_state(chord, bigrams))\n",
    "        # use last chord in sequence to predict next chord\n",
    "        chord = chords[-1]\n",
    "    return chords\n",
    "\n",
    "\n",
    "beatles2 = generate_sequence(my_second_beatles_hit)\n",
    "beatles2 = ' '.join(beatles2)\n",
    "beatles2 = my_second_beatles_hit + \" \" + beatles2\n",
    "print(beatles2)\n"
   ]
  },
  {
   "cell_type": "code",
   "execution_count": 145,
   "metadata": {},
   "outputs": [
    {
     "data": {
      "text/html": [
       "\n",
       "                <div id='midiPlayerDiv1171'></div>\n",
       "                <link rel=\"stylesheet\" href=\"//cuthbertLab.github.io/music21j/css/m21.css\"\n",
       "                    type=\"text/css\" />\n",
       "                <script>\n",
       "                require.config({\n",
       "                    paths: {'music21': '//cuthbertLab.github.io/music21j/src/music21'}\n",
       "                });\n",
       "                require(['music21'], function() {\n",
       "                               mp = new music21.miditools.MidiPlayer();\n",
       "                               mp.addPlayer('#midiPlayerDiv1171');\n",
       "                               mp.base64Load('data:audio/midi;base64,TVRoZAAAAAYAAQACBABNVHJrAAAAFAD/UQMJJ8AA/1gEBAIYCIgA/y8ATVRyawAAAfIA/wMFUGlhbm8AwAQA4ABAAMAEiACQPGQAkEBkAJBDZKAAgDwAAIBAAACAQwAAkD5kAJBBZACQRWQAkEhkoACAPgAAgEEAAIBFAACASAAAkENkAJBHZACQSmQAkE1koACAQwAAgEcAAIBKAACATQAAkEZkAJBKZACQTWSgAIBGAACASgAAgE0AAJA8ZACQQGQAkENkAJBGZKAAgDwAAIBAAACAQwAAgEYAAJBBZACQRWQAkEhkoACAQQAAgEUAAIBIAACQQWQAkEVkAJBIZKAAgEEAAIBFAACASAAAkEFkAJBGZACQSGSgAIBBAACARgAAgEgAAJBBZACQRWQAkEhkoACAQQAAgEUAAIBIAACQQWQAkEZkAJBIZKAAgEEAAIBGAACASAAAkEFkAJBFZACQSGSgAIBBAACARQAAgEgAAJA8ZACQQGQAkENkoACAPAAAgEAAAIBDAACQPmQAkEFkAJBFZACQSGSgAIA+AACAQQAAgEUAAIBIAACQRmQAkEpkAJBNZKAAgEYAAIBKAACATQAAkD5kAJBBZACQRWSgAIA+AACAQQAAgEUAAJBDZACQRmQAkEpkAJBMZKAAgEMAAIBGAACASgAAgEwAAJA8ZACQQGQAkENkAJBGZKAAgDwAAIBAAACAQwAAgEYAiAD/LwA=');\n",
       "                        });\n",
       "                </script>"
      ],
      "text/plain": [
       "<IPython.core.display.HTML object>"
      ]
     },
     "metadata": {},
     "output_type": "display_data"
    }
   ],
   "source": [
    "play(beatles2)"
   ]
  },
  {
   "cell_type": "markdown",
   "metadata": {},
   "source": [
    "## LZify: Applying Universal Prediction to Musical Style\n",
    "\n",
    "LZify was the first algorithmic learning method to create a style immitation from a dictionary of motifs of variable size. It is based on the Lempel-Ziv compression method. Because the viriable context (motif) size that is used for perdiction of the next note, the method became also know as Variable Memory Markov model. Strictly speaking, is not a correct term, but LZ prediciton is known to perform asymptotically as good as any finite Markov model, so the terminology is partially justified. \n",
    "\n",
    "In this section, you will implement the Incremental Parsing (IP) from the Lempel Ziv LZ78 method for creating a dictionary of motifs. These motifs are later used to generate new sequences resembling the input sequence.\n",
    "\n",
    "Please read the algorithm in Assayag, Dubnov, and Delerue's \"Guessing the Composer’s Mind\" (available at https://pdfs.semanticscholar.org/0181/236e1b417c8dd5dddd1f919583893f7a9026.pdf). \n",
    "\n",
    "The IPMotif function should compute the motif dictionary discovered in the text. It uses Incremental Parsing method to parse the text into unseen motifs.\n",
    "\n",
    "##### Question 4 (20 points)"
   ]
  },
  {
   "cell_type": "markdown",
   "metadata": {},
   "source": [
    "The text below contains an excerpt of Beethoven's Fur Elise, written as MML (Music Macro Language). MML is used to represent musical melodies as text. \n",
    "\n",
    "You can read more about MML syntax here: https://en.wikipedia.org/wiki/Music_Macro_Language\n",
    "\n",
    "You can play with MML in this webapp: https://firecomb.github.io/final%20project.html\n",
    "\n",
    "Try playing the text below in the webapp to hear sample output. "
   ]
  },
  {
   "cell_type": "code",
   "execution_count": 83,
   "metadata": {},
   "outputs": [],
   "source": [
    "def IPMotif(text):\n",
    "    \"\"\"Compute an associative dictionary (the motif dictionary).\"\"\"\n",
    "    \n",
    "    dictionary = {}\n",
    "    motif = \"\"\n",
    "    \n",
    "    for ele in text:\n",
    "        motif += ele\n",
    "        if motif in dictionary:\n",
    "            dictionary[motif]+= 1\n",
    "        else:\n",
    "            dictionary[motif] = 1\n",
    "            motif = \"\"\n",
    "    \n",
    "    ### Your Code Here:\n",
    "    return dictionary"
   ]
  },
  {
   "cell_type": "code",
   "execution_count": 84,
   "metadata": {},
   "outputs": [
    {
     "name": "stdout",
     "output_type": "stream",
     "text": [
      "{'o': 1, '6': 1, 'e': 13, 'd': 5, '+': 7, 'ed': 6, '+e': 4, 'c': 9, '-': 3, 'dc': 3, '>': 3, 'a': 4, 'ce': 3, 'ab': 1, 'eg': 1, '+b': 2, 'b': 5, '+e<': 2, 'ed+': 4, 'ed+e': 3, 'c-': 1, 'dc>': 2, 'ac': 1, 'ea': 1, 'be': 2, '<': 4, 'c>': 3, 'ba': 1, 'b<': 1, 'cd': 1, 'e>': 1, 'g': 1, '<f': 1, 'ed>': 1, 'f': 1, '<e': 1, 'dc>e': 1, '<d': 1, 'c>b': 1, 'e<': 2, 'ee': 1, 'ed+ed': 1, '+ec': 1, '-d': 2, 'c>a': 1, 'cea': 2, 'beg': 1, '+bb': 1, '+e<e': 1, 'd+': 1, 'ed+ec': 1, '-dc': 1, '>a': 1, 'ceab': 1, 'e<c': 1, '>b': 1}\n"
     ]
    }
   ],
   "source": [
    "test = 'o6ed+ed+ec-dc>aceabeg+bb+e<ed+ed+ec-dc>aceabe<c>bab<cde>g<fed>f<edc>e<dc>be<eeed+ed+ec-dc>aceabeg+bb+e<ed+ed+ec-dc>aceabe<c>ba'\n",
    "dict1 = IPMotif(test)\n",
    "print(dict1)"
   ]
  },
  {
   "cell_type": "markdown",
   "metadata": {},
   "source": [
    "Next, implement the IPContinuation and Normalize functions. \n",
    "The IPContinuation function transforms the IPMotif dictionary into a tree-like representation to allow finding continuations for new  motifs. The Normalize function turns the counters in every element of the IPContinuation dictionary into probabilities. \n",
    "\n",
    "##### Question 5 (20 points)"
   ]
  },
  {
   "cell_type": "code",
   "execution_count": 85,
   "metadata": {},
   "outputs": [],
   "source": [
    "def IPContinuation(dict1):\n",
    "    \"\"\"Compute continuation dictionary from a motif dictionary\"\"\"\n",
    "\n",
    "    dict2 = {}\n",
    "    for ele in dict1:\n",
    "        counter = dict1[ele]\n",
    "        i = ele[:-1] ; j = ele[-1]\n",
    "        if i in dict2:\n",
    "            dict2[i].append((j,counter))\n",
    "        else:\n",
    "            dict2[i] = [(j,counter)]\n",
    "    dict2 = Normalize(dict2)\n",
    "    return dict2\n",
    "        \n",
    "\n",
    "        \n",
    "# dict1 = IPMotif('abababcabdabcdabce')  #dict1 from paper ----testing\n",
    "# dict2 = IPContinuation(dict1)\n",
    "# dict2"
   ]
  },
  {
   "cell_type": "markdown",
   "metadata": {},
   "source": [
    "##### Question 6 (10 points)"
   ]
  },
  {
   "cell_type": "code",
   "execution_count": 86,
   "metadata": {},
   "outputs": [],
   "source": [
    "def Normalize(dict2):\n",
    "    \"\"\"Turns the counters in every element of dict2 to probabilities\"\"\"\n",
    "\n",
    "    ### Your Code Here:\n",
    "    for i in dict2:\n",
    "        num = [n[1] for n in dict2[i]]\n",
    "        sm = sum(num)\n",
    "        for j, n in enumerate(dict2[i]):\n",
    "            dict2[i][j] = (n[0] , float(n[1])/sm)\n",
    "    return dict2\n",
    "\n"
   ]
  },
  {
   "cell_type": "markdown",
   "metadata": {},
   "source": [
    "Generting a new sequence is done by traversing the IPContinuation tree and selecting possible branches according to their weights. If motif is not found, its last symbol is removed and the process is repeated for a shorter motif."
   ]
  },
  {
   "cell_type": "code",
   "execution_count": 87,
   "metadata": {},
   "outputs": [
    {
     "name": "stdout",
     "output_type": "stream",
     "text": [
      "{'': [('o', 0.017543859649122806), ('6', 0.017543859649122806), ('e', 0.22807017543859648), ('d', 0.08771929824561403), ('+', 0.12280701754385964), ('c', 0.15789473684210525), ('-', 0.05263157894736842), ('>', 0.05263157894736842), ('a', 0.07017543859649122), ('b', 0.08771929824561403), ('<', 0.07017543859649122), ('g', 0.017543859649122806), ('f', 0.017543859649122806)], 'e': [('d', 0.5), ('g', 0.08333333333333333), ('a', 0.08333333333333333), ('>', 0.08333333333333333), ('<', 0.16666666666666666), ('e', 0.08333333333333333)], '+': [('e', 0.6666666666666666), ('b', 0.3333333333333333)], 'd': [('c', 0.75), ('+', 0.25)], 'c': [('e', 0.375), ('-', 0.125), ('>', 0.375), ('d', 0.125)], 'a': [('b', 0.5), ('c', 0.5)], '+e': [('<', 0.6666666666666666), ('c', 0.3333333333333333)], 'ed': [('+', 0.8), ('>', 0.2)], 'ed+': [('e', 1.0)], 'dc': [('>', 1.0)], 'b': [('e', 0.5), ('a', 0.25), ('<', 0.25)], '<': [('f', 0.3333333333333333), ('e', 0.3333333333333333), ('d', 0.3333333333333333)], 'dc>': [('e', 1.0)], 'c>': [('b', 0.5), ('a', 0.5)], 'ed+e': [('d', 0.5), ('c', 0.5)], '-': [('d', 1.0)], 'ce': [('a', 1.0)], 'be': [('g', 1.0)], '+b': [('b', 1.0)], '+e<': [('e', 1.0)], '-d': [('c', 1.0)], '>': [('a', 0.5), ('b', 0.5)], 'cea': [('b', 1.0)], 'e<': [('c', 1.0)]}\n"
     ]
    }
   ],
   "source": [
    "dict2 = IPContinuation(dict1)\n",
    "print(dict2)"
   ]
  },
  {
   "cell_type": "code",
   "execution_count": 88,
   "metadata": {},
   "outputs": [
    {
     "name": "stdout",
     "output_type": "stream",
     "text": [
      "+e<ed+ec>begb<dc>eac>bege>bac>aceab<f<dc>ed+ed+eceabeged+ec>aceab<f<dc>ed+ed+ec>b<dc>ed+ed+e\n"
     ]
    }
   ],
   "source": [
    "def IPGenerate(n,dict2):\n",
    "    p = 0\n",
    "    out = \"\"\n",
    "    for k in range(n):\n",
    "        while True:\n",
    "            context = out[-p:]\n",
    "            if context in dict2:\n",
    "                prob = [tup[1] for tup in dict2[context]]\n",
    "                conti = where(randm(1,prob))[0][0]\n",
    "                cont = dict2[context][conti][0]\n",
    "                out = out + cont\n",
    "                break\n",
    "            else:\n",
    "                p = p-1\n",
    "    return out\n",
    "out = IPGenerate(92,dict2)\n",
    "print(out)"
   ]
  },
  {
   "cell_type": "markdown",
   "metadata": {},
   "source": [
    "##### Question 7 (10 points)\n",
    "\n",
    "Paste your output in the online MML player, and listen to your piece. Do you hear elements of Fur Elise in your composition? What are some of the differences in the output from the original? \n",
    "\n",
    "Please export the WAV file of your output from the webapp, and submit the WAV file with your assignment. "
   ]
  },
  {
   "cell_type": "markdown",
   "metadata": {},
   "source": [
    "I heard a lot of similar elements in the song to the Flur Elise, but the pitch was very different (starting like a high squeek). It can still be recognized as related to Flur Elise but it has a unique sound and is less auditorily pleasing. It sounded like an out of tune version of Flur Elise."
   ]
  },
  {
   "cell_type": "markdown",
   "metadata": {},
   "source": [
    "I had some bugs to fix with implementation, but I expected to not hear the exact same output after my functions parsed the MML. I suspect there will be a similar melody, but a different tempo after the manipulation."
   ]
  },
  {
   "cell_type": "markdown",
   "metadata": {},
   "source": [
    "A few important points:\n",
    "1. The method captures the \"texture\" of the language but not it's meaning.\n",
    "2. We could parse a new text using IPMotifs from two languages, then count the length and number of motifs in order to decide what was the language of the new text.\n",
    "3. In order to use this method with musical information, we need first to translate audio to features, or in case of polyphonic midi change this into some proper representation. One possibility is using virtual fundamental or chroma for harmony, or some other specialized representation to capture repetition in terms of other specific musical properties."
   ]
  }
 ],
 "metadata": {
  "kernelspec": {
   "display_name": "Python 3 (ipykernel)",
   "language": "python",
   "name": "python3"
  },
  "language_info": {
   "codemirror_mode": {
    "name": "ipython",
    "version": 3
   },
   "file_extension": ".py",
   "mimetype": "text/x-python",
   "name": "python",
   "nbconvert_exporter": "python",
   "pygments_lexer": "ipython3",
   "version": "3.8.5"
  }
 },
 "nbformat": 4,
 "nbformat_minor": 4
}
